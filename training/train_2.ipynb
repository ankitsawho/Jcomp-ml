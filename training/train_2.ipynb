{
 "cells": [
  {
   "cell_type": "code",
   "execution_count": 1,
   "id": "51ca7313",
   "metadata": {},
   "outputs": [],
   "source": [
    "import numpy as np\n",
    "import pandas as pd\n",
    "import matplotlib.pyplot as plt\n",
    "%matplotlib inline\n",
    "import seaborn as sns\n",
    "from sklearn import metrics \n",
    "import warnings\n",
    "warnings.filterwarnings('ignore')"
   ]
  },
  {
   "cell_type": "code",
   "execution_count": 2,
   "id": "ec491f22",
   "metadata": {},
   "outputs": [
    {
     "data": {
      "text/html": [
       "<div>\n",
       "<style scoped>\n",
       "    .dataframe tbody tr th:only-of-type {\n",
       "        vertical-align: middle;\n",
       "    }\n",
       "\n",
       "    .dataframe tbody tr th {\n",
       "        vertical-align: top;\n",
       "    }\n",
       "\n",
       "    .dataframe thead th {\n",
       "        text-align: right;\n",
       "    }\n",
       "</style>\n",
       "<table border=\"1\" class=\"dataframe\">\n",
       "  <thead>\n",
       "    <tr style=\"text-align: right;\">\n",
       "      <th></th>\n",
       "      <th>having_IP_Address</th>\n",
       "      <th>URL_Length</th>\n",
       "      <th>Shortining_Service</th>\n",
       "      <th>having_At_Symbol</th>\n",
       "      <th>double_slash_redirecting</th>\n",
       "      <th>Prefix_Suffix</th>\n",
       "      <th>having_Sub_Domain</th>\n",
       "      <th>SSLfinal_State</th>\n",
       "      <th>Domain_registeration_length</th>\n",
       "      <th>Favicon</th>\n",
       "      <th>...</th>\n",
       "      <th>popUpWidnow</th>\n",
       "      <th>Iframe</th>\n",
       "      <th>age_of_domain</th>\n",
       "      <th>DNSRecord</th>\n",
       "      <th>web_traffic</th>\n",
       "      <th>Page_Rank</th>\n",
       "      <th>Google_Index</th>\n",
       "      <th>Links_pointing_to_page</th>\n",
       "      <th>Statistical_report</th>\n",
       "      <th>Results</th>\n",
       "    </tr>\n",
       "  </thead>\n",
       "  <tbody>\n",
       "    <tr>\n",
       "      <th>0</th>\n",
       "      <td>1</td>\n",
       "      <td>1</td>\n",
       "      <td>1</td>\n",
       "      <td>1</td>\n",
       "      <td>1</td>\n",
       "      <td>-1</td>\n",
       "      <td>0</td>\n",
       "      <td>1</td>\n",
       "      <td>-1</td>\n",
       "      <td>1</td>\n",
       "      <td>...</td>\n",
       "      <td>1</td>\n",
       "      <td>1</td>\n",
       "      <td>-1</td>\n",
       "      <td>-1</td>\n",
       "      <td>0</td>\n",
       "      <td>-1</td>\n",
       "      <td>1</td>\n",
       "      <td>1</td>\n",
       "      <td>1</td>\n",
       "      <td>-1</td>\n",
       "    </tr>\n",
       "    <tr>\n",
       "      <th>1</th>\n",
       "      <td>1</td>\n",
       "      <td>0</td>\n",
       "      <td>1</td>\n",
       "      <td>1</td>\n",
       "      <td>1</td>\n",
       "      <td>-1</td>\n",
       "      <td>-1</td>\n",
       "      <td>-1</td>\n",
       "      <td>-1</td>\n",
       "      <td>1</td>\n",
       "      <td>...</td>\n",
       "      <td>1</td>\n",
       "      <td>1</td>\n",
       "      <td>1</td>\n",
       "      <td>-1</td>\n",
       "      <td>1</td>\n",
       "      <td>-1</td>\n",
       "      <td>1</td>\n",
       "      <td>0</td>\n",
       "      <td>-1</td>\n",
       "      <td>-1</td>\n",
       "    </tr>\n",
       "    <tr>\n",
       "      <th>2</th>\n",
       "      <td>1</td>\n",
       "      <td>0</td>\n",
       "      <td>1</td>\n",
       "      <td>1</td>\n",
       "      <td>1</td>\n",
       "      <td>-1</td>\n",
       "      <td>-1</td>\n",
       "      <td>-1</td>\n",
       "      <td>1</td>\n",
       "      <td>1</td>\n",
       "      <td>...</td>\n",
       "      <td>1</td>\n",
       "      <td>1</td>\n",
       "      <td>-1</td>\n",
       "      <td>-1</td>\n",
       "      <td>1</td>\n",
       "      <td>-1</td>\n",
       "      <td>1</td>\n",
       "      <td>-1</td>\n",
       "      <td>1</td>\n",
       "      <td>-1</td>\n",
       "    </tr>\n",
       "    <tr>\n",
       "      <th>3</th>\n",
       "      <td>1</td>\n",
       "      <td>0</td>\n",
       "      <td>-1</td>\n",
       "      <td>1</td>\n",
       "      <td>1</td>\n",
       "      <td>-1</td>\n",
       "      <td>1</td>\n",
       "      <td>1</td>\n",
       "      <td>-1</td>\n",
       "      <td>1</td>\n",
       "      <td>...</td>\n",
       "      <td>-1</td>\n",
       "      <td>1</td>\n",
       "      <td>-1</td>\n",
       "      <td>-1</td>\n",
       "      <td>0</td>\n",
       "      <td>-1</td>\n",
       "      <td>1</td>\n",
       "      <td>1</td>\n",
       "      <td>1</td>\n",
       "      <td>1</td>\n",
       "    </tr>\n",
       "    <tr>\n",
       "      <th>4</th>\n",
       "      <td>1</td>\n",
       "      <td>0</td>\n",
       "      <td>-1</td>\n",
       "      <td>1</td>\n",
       "      <td>1</td>\n",
       "      <td>-1</td>\n",
       "      <td>-1</td>\n",
       "      <td>-1</td>\n",
       "      <td>1</td>\n",
       "      <td>1</td>\n",
       "      <td>...</td>\n",
       "      <td>1</td>\n",
       "      <td>1</td>\n",
       "      <td>1</td>\n",
       "      <td>-1</td>\n",
       "      <td>-1</td>\n",
       "      <td>-1</td>\n",
       "      <td>1</td>\n",
       "      <td>0</td>\n",
       "      <td>-1</td>\n",
       "      <td>-1</td>\n",
       "    </tr>\n",
       "  </tbody>\n",
       "</table>\n",
       "<p>5 rows × 31 columns</p>\n",
       "</div>"
      ],
      "text/plain": [
       "   having_IP_Address  URL_Length  Shortining_Service  having_At_Symbol  \\\n",
       "0                  1           1                   1                 1   \n",
       "1                  1           0                   1                 1   \n",
       "2                  1           0                   1                 1   \n",
       "3                  1           0                  -1                 1   \n",
       "4                  1           0                  -1                 1   \n",
       "\n",
       "   double_slash_redirecting  Prefix_Suffix  having_Sub_Domain  SSLfinal_State  \\\n",
       "0                         1             -1                  0               1   \n",
       "1                         1             -1                 -1              -1   \n",
       "2                         1             -1                 -1              -1   \n",
       "3                         1             -1                  1               1   \n",
       "4                         1             -1                 -1              -1   \n",
       "\n",
       "   Domain_registeration_length  Favicon  ...  popUpWidnow  Iframe  \\\n",
       "0                           -1        1  ...            1       1   \n",
       "1                           -1        1  ...            1       1   \n",
       "2                            1        1  ...            1       1   \n",
       "3                           -1        1  ...           -1       1   \n",
       "4                            1        1  ...            1       1   \n",
       "\n",
       "   age_of_domain  DNSRecord  web_traffic  Page_Rank  Google_Index  \\\n",
       "0             -1         -1            0         -1             1   \n",
       "1              1         -1            1         -1             1   \n",
       "2             -1         -1            1         -1             1   \n",
       "3             -1         -1            0         -1             1   \n",
       "4              1         -1           -1         -1             1   \n",
       "\n",
       "   Links_pointing_to_page  Statistical_report  Results  \n",
       "0                       1                   1       -1  \n",
       "1                       0                  -1       -1  \n",
       "2                      -1                   1       -1  \n",
       "3                       1                   1        1  \n",
       "4                       0                  -1       -1  \n",
       "\n",
       "[5 rows x 31 columns]"
      ]
     },
     "execution_count": 2,
     "metadata": {},
     "output_type": "execute_result"
    }
   ],
   "source": [
    "data = pd.read_csv(\"../data/data_2.csv\")\n",
    "data.head()"
   ]
  },
  {
   "cell_type": "code",
   "execution_count": 3,
   "id": "1999dba3",
   "metadata": {},
   "outputs": [
    {
     "data": {
      "image/png": "[encoded data removed]",
      "text/plain": [
       "<Figure size 432x288 with 1 Axes>"
      ]
     },
     "metadata": {},
     "output_type": "display_data"
    }
   ],
   "source": [
    "data['Results'].value_counts().plot(kind='pie',autopct='%1.2f%%')\n",
    "plt.title(\"Phishing Count\")\n",
    "plt.show()"
   ]
  },
  {
   "cell_type": "code",
   "execution_count": 4,
   "id": "f3d90a24",
   "metadata": {},
   "outputs": [],
   "source": [
    "X = data.drop([\"Results\"],axis =1)\n",
    "y = data[\"Results\"]"
   ]
  },
  {
   "cell_type": "code",
   "execution_count": 5,
   "id": "9de941d7",
   "metadata": {},
   "outputs": [
    {
     "data": {
      "text/plain": [
       "((6513, 30), (6513,), (1629, 30), (1629,))"
      ]
     },
     "execution_count": 5,
     "metadata": {},
     "output_type": "execute_result"
    }
   ],
   "source": [
    "from sklearn.model_selection import train_test_split\n",
    "\n",
    "X_train, X_test, y_train, y_test = train_test_split(X, y, test_size = 0.2, random_state = 42)\n",
    "X_train.shape, y_train.shape, X_test.shape, y_test.shape"
   ]
  },
  {
   "cell_type": "code",
   "execution_count": 6,
   "id": "55ac1416",
   "metadata": {},
   "outputs": [],
   "source": [
    "ML_Model = []\n",
    "accuracy = []\n",
    "f1_score = []\n",
    "recall = []\n",
    "precision = []\n",
    "\n",
    "def storeResults(model, a,b,c,d):\n",
    "  ML_Model.append(model)\n",
    "  accuracy.append(round(a, 3))\n",
    "  f1_score.append(round(b, 3))\n",
    "  recall.append(round(c, 3))\n",
    "  precision.append(round(d, 3))"
   ]
  },
  {
   "cell_type": "markdown",
   "id": "a8724a53",
   "metadata": {},
   "source": [
    "## 5.1. Logistic Regression"
   ]
  },
  {
   "cell_type": "code",
   "execution_count": 7,
   "id": "1aa0632f",
   "metadata": {},
   "outputs": [
    {
     "data": {
      "text/plain": [
       "LogisticRegression()"
      ]
     },
     "execution_count": 7,
     "metadata": {},
     "output_type": "execute_result"
    }
   ],
   "source": [
    "from sklearn.linear_model import LogisticRegression\n",
    "\n",
    "log = LogisticRegression()\n",
    "\n",
    "log.fit(X_train,y_train)"
   ]
  },
  {
   "cell_type": "code",
   "execution_count": 8,
   "id": "66af98cc",
   "metadata": {},
   "outputs": [],
   "source": [
    "y_train_log = log.predict(X_train)\n",
    "y_test_log = log.predict(X_test)"
   ]
  },
  {
   "cell_type": "code",
   "execution_count": 9,
   "id": "bd4f1e81",
   "metadata": {},
   "outputs": [
    {
     "name": "stdout",
     "output_type": "stream",
     "text": [
      "Logistic Regression : Accuracy on training Data: 0.922\n",
      "Logistic Regression : Accuracy on test Data: 0.915\n",
      "\n",
      "Logistic Regression : f1_score on training Data: 0.928\n",
      "Logistic Regression : f1_score on test Data: 0.923\n",
      "\n",
      "Logistic Regression : Recall on training Data: 0.938\n",
      "Logistic Regression : Recall on test Data: 0.940\n",
      "\n",
      "Logistic Regression : precision on training Data: 0.918\n",
      "Logistic Regression : precision on test Data: 0.906\n"
     ]
    }
   ],
   "source": [
    "acc_train_log = metrics.accuracy_score(y_train,y_train_log)\n",
    "acc_test_log = metrics.accuracy_score(y_test,y_test_log)\n",
    "print(\"Logistic Regression\")\n",
    "print(\"Accuracy on training Data: {:.3f}\".format(acc_train_log))\n",
    "print(\"Accuracy on test Data: {:.3f}\".format(acc_test_log))\n",
    "print()\n",
    "\n",
    "f1_score_train_log = metrics.f1_score(y_train,y_train_log)\n",
    "f1_score_test_log = metrics.f1_score(y_test,y_test_log)\n",
    "print(\"f1_score on training Data: {:.3f}\".format(f1_score_train_log))\n",
    "print(\"f1_score on test Data: {:.3f}\".format(f1_score_test_log))\n",
    "print()\n",
    "\n",
    "recall_score_train_log = metrics.recall_score(y_train,y_train_log)\n",
    "recall_score_test_log = metrics.recall_score(y_test,y_test_log)\n",
    "print(\"Recall on training Data: {:.3f}\".format(recall_score_train_log))\n",
    "print(\"Recall on test Data: {:.3f}\".format(recall_score_test_log))\n",
    "print()\n",
    "\n",
    "precision_score_train_log = metrics.precision_score(y_train,y_train_log)\n",
    "precision_score_test_log = metrics.precision_score(y_test,y_test_log)\n",
    "print(\"precision on training Data: {:.3f}\".format(precision_score_train_log))\n",
    "print(\"precision on test Data: {:.3f}\".format(precision_score_test_log))"
   ]
  },
  {
   "cell_type": "code",
   "execution_count": 10,
   "id": "e557df04",
   "metadata": {},
   "outputs": [],
   "source": [
    "storeResults('Logistic Regression',acc_test_log,f1_score_test_log,recall_score_train_log,precision_score_train_log)"
   ]
  },
  {
   "cell_type": "markdown",
   "id": "94a3a5bf",
   "metadata": {},
   "source": [
    "## 5.2. K-Nearest Neighbors : Classifier"
   ]
  },
  {
   "cell_type": "code",
   "execution_count": 11,
   "id": "fcdb78be",
   "metadata": {},
   "outputs": [
    {
     "data": {
      "text/plain": [
       "KNeighborsClassifier(n_neighbors=1)"
      ]
     },
     "execution_count": 11,
     "metadata": {},
     "output_type": "execute_result"
    }
   ],
   "source": [
    "from sklearn.neighbors import KNeighborsClassifier\n",
    "knn = KNeighborsClassifier(n_neighbors=1)\n",
    "knn.fit(X_train,y_train)"
   ]
  },
  {
   "cell_type": "code",
   "execution_count": 12,
   "id": "269c61e7",
   "metadata": {},
   "outputs": [],
   "source": [
    "y_train_knn = knn.predict(X_train)\n",
    "y_test_knn = knn.predict(X_test)"
   ]
  },
  {
   "cell_type": "code",
   "execution_count": 13,
   "id": "77d9c3bf",
   "metadata": {},
   "outputs": [
    {
     "name": "stdout",
     "output_type": "stream",
     "text": [
      "K-Nearest Neighbors : Accuracy on training Data: 0.983\n",
      "K-Nearest Neighbors : Accuracy on test Data: 0.938\n",
      "\n",
      "K-Nearest Neighbors : f1_score on training Data: 0.984\n",
      "K-Nearest Neighbors : f1_score on test Data: 0.943\n",
      "\n",
      "K-Nearest Neighborsn : Recall on training Data: 0.982\n",
      "Logistic Regression : Recall on test Data: 0.947\n",
      "\n",
      "K-Nearest Neighbors : precision on training Data: 0.986\n",
      "K-Nearest Neighbors : precision on test Data: 0.939\n"
     ]
    }
   ],
   "source": [
    "acc_train_knn = metrics.accuracy_score(y_train,y_train_knn)\n",
    "acc_test_knn = metrics.accuracy_score(y_test,y_test_knn)\n",
    "print(\"K-Nearest Neighbors\")\n",
    "print(\"Accuracy on training Data: {:.3f}\".format(acc_train_knn))\n",
    "print(\"Accuracy on test Data: {:.3f}\".format(acc_test_knn))\n",
    "print()\n",
    "\n",
    "f1_score_train_knn = metrics.f1_score(y_train,y_train_knn)\n",
    "f1_score_test_knn = metrics.f1_score(y_test,y_test_knn)\n",
    "print(\"f1_score on training Data: {:.3f}\".format(f1_score_train_knn))\n",
    "print(\"f1_score on test Data: {:.3f}\".format(f1_score_test_knn))\n",
    "print()\n",
    "\n",
    "recall_score_train_knn = metrics.recall_score(y_train,y_train_knn)\n",
    "recall_score_test_knn = metrics.recall_score(y_test,y_test_knn)\n",
    "print(\"Recall on training Data: {:.3f}\".format(recall_score_train_knn))\n",
    "print(\"Recall on test Data: {:.3f}\".format(recall_score_test_knn))\n",
    "print()\n",
    "\n",
    "precision_score_train_knn = metrics.precision_score(y_train,y_train_knn)\n",
    "precision_score_test_knn = metrics.precision_score(y_test,y_test_knn)\n",
    "print(\"precision on training Data: {:.3f}\".format(precision_score_train_knn))\n",
    "print(\"precision on test Data: {:.3f}\".format(precision_score_test_knn))"
   ]
  },
  {
   "cell_type": "code",
   "execution_count": 14,
   "id": "19e5bf0c",
   "metadata": {},
   "outputs": [],
   "source": [
    "storeResults('K-Nearest Neighbors',acc_test_knn,f1_score_test_knn,\n",
    "             recall_score_train_knn,precision_score_train_knn)"
   ]
  },
  {
   "cell_type": "markdown",
   "id": "8ba22f40",
   "metadata": {},
   "source": [
    "## 5.4. Naive Bayes : Classifier"
   ]
  },
  {
   "cell_type": "code",
   "execution_count": 15,
   "id": "69469f59",
   "metadata": {},
   "outputs": [
    {
     "data": {
      "text/plain": [
       "GaussianNB()"
      ]
     },
     "execution_count": 15,
     "metadata": {},
     "output_type": "execute_result"
    }
   ],
   "source": [
    "from sklearn.naive_bayes import GaussianNB\n",
    "from sklearn.pipeline import Pipeline\n",
    "\n",
    "nb=  GaussianNB()\n",
    "\n",
    "nb.fit(X_train,y_train)"
   ]
  },
  {
   "cell_type": "code",
   "execution_count": 16,
   "id": "d5af1028",
   "metadata": {},
   "outputs": [],
   "source": [
    "y_train_nb = nb.predict(X_train)\n",
    "y_test_nb = nb.predict(X_test)"
   ]
  },
  {
   "cell_type": "code",
   "execution_count": 17,
   "id": "63968c7a",
   "metadata": {},
   "outputs": [
    {
     "name": "stdout",
     "output_type": "stream",
     "text": [
      "Naive Bayes Classifier : Accuracy on training Data: 0.756\n",
      "Naive Bayes Classifier : Accuracy on test Data: 0.743\n",
      "\n",
      "Naive Bayes Classifier : f1_score on training Data: 0.811\n",
      "Naive Bayes Classifier : f1_score on test Data: 0.805\n",
      "\n",
      "Naive Bayes Classifier : Recall on training Data: 0.980\n",
      "Naive Bayes Classifier : Recall on test Data: 0.977\n",
      "\n",
      "Naive Bayes Classifier : precision on training Data: 0.691\n",
      "Naive Bayes Classifier : precision on test Data: 0.685\n"
     ]
    }
   ],
   "source": [
    "acc_train_nb = metrics.accuracy_score(y_train,y_train_nb)\n",
    "acc_test_nb = metrics.accuracy_score(y_test,y_test_nb)\n",
    "print(\"Naive Bayes Classifier\")\n",
    "print(\"Accuracy on training Data: {:.3f}\".format(acc_train_nb))\n",
    "print(\"Accuracy on test Data: {:.3f}\".format(acc_test_nb))\n",
    "print()\n",
    "\n",
    "f1_score_train_nb = metrics.f1_score(y_train,y_train_nb)\n",
    "f1_score_test_nb = metrics.f1_score(y_test,y_test_nb)\n",
    "print(\"f1_score on training Data: {:.3f}\".format(f1_score_train_nb))\n",
    "print(\"f1_score on test Data: {:.3f}\".format(f1_score_test_nb))\n",
    "print()\n",
    "\n",
    "recall_score_train_nb = metrics.recall_score(y_train,y_train_nb)\n",
    "recall_score_test_nb = metrics.recall_score(y_test,y_test_nb)\n",
    "print(\"Recall on training Data: {:.3f}\".format(recall_score_train_nb))\n",
    "print(\"Recall on test Data: {:.3f}\".format(recall_score_test_nb))\n",
    "print()\n",
    "\n",
    "precision_score_train_nb = metrics.precision_score(y_train,y_train_nb)\n",
    "precision_score_test_nb = metrics.precision_score(y_test,y_test_nb)\n",
    "print(\"precision on training Data: {:.3f}\".format(precision_score_train_nb))\n",
    "print(\"precision on test Data: {:.3f}\".format(precision_score_test_nb))"
   ]
  },
  {
   "cell_type": "code",
   "execution_count": 18,
   "id": "51080f01",
   "metadata": {},
   "outputs": [],
   "source": [
    "storeResults('Naive Bayes Classifier',acc_test_nb,f1_score_test_nb,\n",
    "             recall_score_train_nb,precision_score_train_nb)"
   ]
  },
  {
   "cell_type": "markdown",
   "id": "bffea1bb",
   "metadata": {},
   "source": [
    "## 5.5. Decision Trees : Classifier"
   ]
  },
  {
   "cell_type": "code",
   "execution_count": 19,
   "id": "31379c27",
   "metadata": {},
   "outputs": [
    {
     "data": {
      "text/plain": [
       "DecisionTreeClassifier(max_depth=30)"
      ]
     },
     "execution_count": 19,
     "metadata": {},
     "output_type": "execute_result"
    }
   ],
   "source": [
    "from sklearn.tree import DecisionTreeClassifier\n",
    "\n",
    "tree = DecisionTreeClassifier(max_depth=30)\n",
    "\n",
    "tree.fit(X_train, y_train)"
   ]
  },
  {
   "cell_type": "code",
   "execution_count": 20,
   "id": "6c19c3ec",
   "metadata": {},
   "outputs": [],
   "source": [
    "y_train_tree = tree.predict(X_train)\n",
    "y_test_tree = tree.predict(X_test)"
   ]
  },
  {
   "cell_type": "code",
   "execution_count": 21,
   "id": "b577d598",
   "metadata": {},
   "outputs": [
    {
     "name": "stdout",
     "output_type": "stream",
     "text": [
      "Decision Tree : Accuracy on training Data: 0.987\n",
      "Decision Tree : Accuracy on test Data: 0.953\n",
      "\n",
      "Decision Tree : f1_score on training Data: 0.988\n",
      "Decision Tree : f1_score on test Data: 0.957\n",
      "\n",
      "Decision Tree : Recall on training Data: 0.987\n",
      "Decision Tree : Recall on test Data: 0.967\n",
      "\n",
      "Decision Tree : precision on training Data: 0.988\n",
      "Decision Tree : precision on test Data: 0.948\n"
     ]
    }
   ],
   "source": [
    "acc_train_tree = metrics.accuracy_score(y_train,y_train_tree)\n",
    "acc_test_tree = metrics.accuracy_score(y_test,y_test_tree)\n",
    "print(\"Decision Tree\")\n",
    "print(\"Accuracy on training Data: {:.3f}\".format(acc_train_tree))\n",
    "print(\"Accuracy on test Data: {:.3f}\".format(acc_test_tree))\n",
    "print()\n",
    "\n",
    "f1_score_train_tree = metrics.f1_score(y_train,y_train_tree)\n",
    "f1_score_test_tree = metrics.f1_score(y_test,y_test_tree)\n",
    "print(\"f1_score on training Data: {:.3f}\".format(f1_score_train_tree))\n",
    "print(\"f1_score on test Data: {:.3f}\".format(f1_score_test_tree))\n",
    "print()\n",
    "\n",
    "recall_score_train_tree = metrics.recall_score(y_train,y_train_tree)\n",
    "recall_score_test_tree = metrics.recall_score(y_test,y_test_tree)\n",
    "print(\"Recall on training Data: {:.3f}\".format(recall_score_train_tree))\n",
    "print(\"Recall on test Data: {:.3f}\".format(recall_score_test_tree))\n",
    "print()\n",
    "\n",
    "precision_score_train_tree = metrics.precision_score(y_train,y_train_tree)\n",
    "precision_score_test_tree = metrics.precision_score(y_test,y_test_tree)\n",
    "print(\"precision on training Data: {:.3f}\".format(precision_score_train_tree))\n",
    "print(\"precision on test Data: {:.3f}\".format(precision_score_test_tree))"
   ]
  },
  {
   "cell_type": "code",
   "execution_count": 22,
   "id": "0f3b12b8",
   "metadata": {},
   "outputs": [],
   "source": [
    "storeResults('Decision Tree',acc_test_tree,f1_score_test_tree,\n",
    "             recall_score_train_tree,precision_score_train_tree)"
   ]
  },
  {
   "cell_type": "markdown",
   "id": "02637ba8",
   "metadata": {},
   "source": [
    "## 5.6. Random Forest : Classifier"
   ]
  },
  {
   "cell_type": "code",
   "execution_count": 23,
   "id": "49272c25",
   "metadata": {},
   "outputs": [
    {
     "data": {
      "text/plain": [
       "RandomForestClassifier(n_estimators=10)"
      ]
     },
     "execution_count": 23,
     "metadata": {},
     "output_type": "execute_result"
    }
   ],
   "source": [
    "from sklearn.ensemble import RandomForestClassifier\n",
    "\n",
    "forest = RandomForestClassifier(n_estimators=10)\n",
    "\n",
    "forest.fit(X_train,y_train)"
   ]
  },
  {
   "cell_type": "code",
   "execution_count": 24,
   "id": "82c1f8b7",
   "metadata": {},
   "outputs": [],
   "source": [
    "y_train_forest = forest.predict(X_train)\n",
    "y_test_forest = forest.predict(X_test)"
   ]
  },
  {
   "cell_type": "code",
   "execution_count": 25,
   "id": "a41bd7f0",
   "metadata": {},
   "outputs": [
    {
     "name": "stdout",
     "output_type": "stream",
     "text": [
      "Random Forest : Accuracy on training Data: 0.985\n",
      "Random Forest : Accuracy on test Data: 0.964\n",
      "\n",
      "Random Forest : f1_score on training Data: 0.986\n",
      "Random Forest : f1_score on test Data: 0.967\n",
      "\n",
      "Random Forest : Recall on training Data: 0.990\n",
      "Random Forest : Recall on test Data: 0.972\n",
      "\n",
      "Random Forest : precision on training Data: 0.983\n",
      "Random Forest : precision on test Data: 0.948\n"
     ]
    }
   ],
   "source": [
    "acc_train_forest = metrics.accuracy_score(y_train,y_train_forest)\n",
    "acc_test_forest = metrics.accuracy_score(y_test,y_test_forest)\n",
    "print(\"Random Forest\")\n",
    "print(\"Accuracy on training Data: {:.3f}\".format(acc_train_forest))\n",
    "print(\"Accuracy on test Data: {:.3f}\".format(acc_test_forest))\n",
    "print()\n",
    "\n",
    "f1_score_train_forest = metrics.f1_score(y_train,y_train_forest)\n",
    "f1_score_test_forest = metrics.f1_score(y_test,y_test_forest)\n",
    "print(\"f1_score on training Data: {:.3f}\".format(f1_score_train_forest))\n",
    "print(\"f1_score on test Data: {:.3f}\".format(f1_score_test_forest))\n",
    "print()\n",
    "\n",
    "recall_score_train_forest = metrics.recall_score(y_train,y_train_forest)\n",
    "recall_score_test_forest = metrics.recall_score(y_test,y_test_forest)\n",
    "print(\"Recall on training Data: {:.3f}\".format(recall_score_train_forest))\n",
    "print(\"Recall on test Data: {:.3f}\".format(recall_score_test_forest))\n",
    "print()\n",
    "\n",
    "precision_score_train_forest = metrics.precision_score(y_train,y_train_forest)\n",
    "precision_score_test_forest = metrics.precision_score(y_test,y_test_tree)\n",
    "print(\"precision on training Data: {:.3f}\".format(precision_score_train_forest))\n",
    "print(\"precision on test Data: {:.3f}\".format(precision_score_test_forest))"
   ]
  },
  {
   "cell_type": "code",
   "execution_count": 26,
   "id": "310a4d15",
   "metadata": {},
   "outputs": [],
   "source": [
    "storeResults('Random Forest',acc_test_forest,f1_score_test_forest,\n",
    "             recall_score_train_forest,precision_score_train_forest)"
   ]
  },
  {
   "cell_type": "markdown",
   "id": "08ba9a1a",
   "metadata": {},
   "source": [
    "## 5.7.Gradient Boosting Classifier"
   ]
  },
  {
   "cell_type": "code",
   "execution_count": 27,
   "id": "46672600",
   "metadata": {},
   "outputs": [
    {
     "data": {
      "text/plain": [
       "GradientBoostingClassifier(learning_rate=0.7, max_depth=4)"
      ]
     },
     "execution_count": 27,
     "metadata": {},
     "output_type": "execute_result"
    }
   ],
   "source": [
    "from sklearn.ensemble import GradientBoostingClassifier\n",
    "\n",
    "gbc = GradientBoostingClassifier(max_depth=4,learning_rate=0.7)\n",
    "\n",
    "gbc.fit(X_train,y_train)"
   ]
  },
  {
   "cell_type": "code",
   "execution_count": 28,
   "id": "1abd4a9e",
   "metadata": {},
   "outputs": [],
   "source": [
    "y_train_gbc = gbc.predict(X_train)\n",
    "y_test_gbc = gbc.predict(X_test)"
   ]
  },
  {
   "cell_type": "code",
   "execution_count": 29,
   "id": "4c8ea93d",
   "metadata": {},
   "outputs": [
    {
     "name": "stdout",
     "output_type": "stream",
     "text": [
      "Gradient Boosting Classifier : Accuracy on training Data: 0.984\n",
      "Gradient Boosting Classifier : Accuracy on test Data: 0.960\n",
      "\n",
      "Gradient Boosting Classifier : f1_score on training Data: 0.985\n",
      "Gradient Boosting Classifier : f1_score on test Data: 0.964\n",
      "\n",
      "Gradient Boosting Classifier : Recall on training Data: 0.988\n",
      "Gradient Boosting Classifier : Recall on test Data: 0.973\n",
      "\n",
      "Gradient Boosting Classifier : precision on training Data: 0.982\n",
      "Gradient Boosting Classifier : precision on test Data: 0.954\n"
     ]
    }
   ],
   "source": [
    "acc_train_gbc = metrics.accuracy_score(y_train,y_train_gbc)\n",
    "acc_test_gbc = metrics.accuracy_score(y_test,y_test_gbc)\n",
    "print(\"Gradient Boosting Classifier\")\n",
    "print(\"Accuracy on training Data: {:.3f}\".format(acc_train_gbc))\n",
    "print(\"Accuracy on test Data: {:.3f}\".format(acc_test_gbc))\n",
    "print()\n",
    "\n",
    "f1_score_train_gbc = metrics.f1_score(y_train,y_train_gbc)\n",
    "f1_score_test_gbc = metrics.f1_score(y_test,y_test_gbc)\n",
    "print(\"f1_score on training Data: {:.3f}\".format(f1_score_train_gbc))\n",
    "print(\"f1_score on test Data: {:.3f}\".format(f1_score_test_gbc))\n",
    "print()\n",
    "\n",
    "recall_score_train_gbc = metrics.recall_score(y_train,y_train_gbc)\n",
    "recall_score_test_gbc =  metrics.recall_score(y_test,y_test_gbc)\n",
    "print(\"Recall on training Data: {:.3f}\".format(recall_score_train_gbc))\n",
    "print(\"Recall on test Data: {:.3f}\".format(recall_score_test_gbc))\n",
    "print()\n",
    "\n",
    "precision_score_train_gbc = metrics.precision_score(y_train,y_train_gbc)\n",
    "precision_score_test_gbc = metrics.precision_score(y_test,y_test_gbc)\n",
    "print(\"precision on training Data: {:.3f}\".format(precision_score_train_gbc))\n",
    "print(\"precision on test Data: {:.3f}\".format(precision_score_test_gbc))"
   ]
  },
  {
   "cell_type": "code",
   "execution_count": 30,
   "id": "660fe8b1",
   "metadata": {},
   "outputs": [],
   "source": [
    "storeResults('Gradient Boosting Classifier',acc_test_gbc,f1_score_test_gbc,\n",
    "             recall_score_train_gbc,precision_score_train_gbc)"
   ]
  },
  {
   "cell_type": "markdown",
   "id": "c87f8a55",
   "metadata": {},
   "source": [
    "## 5.10. Multi-layer Perceptron classifier\n"
   ]
  },
  {
   "cell_type": "code",
   "execution_count": 31,
   "id": "5bfc3ea7",
   "metadata": {},
   "outputs": [
    {
     "data": {
      "text/plain": [
       "MLPClassifier()"
      ]
     },
     "execution_count": 31,
     "metadata": {},
     "output_type": "execute_result"
    }
   ],
   "source": [
    "from sklearn.neural_network import MLPClassifier\n",
    "\n",
    "mlp = MLPClassifier()\n",
    "\n",
    "mlp.fit(X_train,y_train)"
   ]
  },
  {
   "cell_type": "code",
   "execution_count": 32,
   "id": "2cf7f1af",
   "metadata": {},
   "outputs": [],
   "source": [
    "y_train_mlp = mlp.predict(X_train)\n",
    "y_test_mlp = mlp.predict(X_test)"
   ]
  },
  {
   "cell_type": "code",
   "execution_count": 33,
   "id": "d68aa680",
   "metadata": {},
   "outputs": [
    {
     "name": "stdout",
     "output_type": "stream",
     "text": [
      "Multi-layer Perceptron : Accuracy on training Data: 0.980\n",
      "Multi-layer Perceptron : Accuracy on test Data: 0.955\n",
      "\n",
      "Multi-layer Perceptron : f1_score on training Data: 0.981\n",
      "Multi-layer Perceptron : f1_score on test Data: 0.981\n",
      "\n",
      "Multi-layer Perceptron : Recall on training Data: 0.992\n",
      "Multi-layer Perceptron : Recall on test Data: 0.971\n",
      "\n",
      "Multi-layer Perceptron : precision on training Data: 0.971\n",
      "Multi-layer Perceptron : precision on test Data: 0.947\n"
     ]
    }
   ],
   "source": [
    "acc_train_mlp  = metrics.accuracy_score(y_train,y_train_mlp)\n",
    "acc_test_mlp = metrics.accuracy_score(y_test,y_test_mlp)\n",
    "print(\"Multi-layer Perceptron\")\n",
    "print(\"Accuracy on training Data: {:.3f}\".format(acc_train_mlp))\n",
    "print(\"Accuracy on test Data: {:.3f}\".format(acc_test_mlp))\n",
    "print()\n",
    "\n",
    "f1_score_train_mlp = metrics.f1_score(y_train,y_train_mlp)\n",
    "f1_score_test_mlp = metrics.f1_score(y_test,y_test_mlp)\n",
    "print(\"f1_score on training Data: {:.3f}\".format(f1_score_train_mlp))\n",
    "print(\"f1_score on test Data: {:.3f}\".format(f1_score_train_mlp))\n",
    "print()\n",
    "\n",
    "recall_score_train_mlp = metrics.recall_score(y_train,y_train_mlp)\n",
    "recall_score_test_mlp = metrics.recall_score(y_test,y_test_mlp)\n",
    "print(\"Recall on training Data: {:.3f}\".format(recall_score_train_mlp))\n",
    "print(\"Recall on test Data: {:.3f}\".format(recall_score_test_mlp))\n",
    "print()\n",
    "\n",
    "precision_score_train_mlp = metrics.precision_score(y_train,y_train_mlp)\n",
    "precision_score_test_mlp = metrics.precision_score(y_test,y_test_mlp)\n",
    "print(\"precision on training Data: {:.3f}\".format(precision_score_train_mlp))\n",
    "print(\"precision on test Data: {:.3f}\".format(precision_score_test_mlp))"
   ]
  },
  {
   "cell_type": "code",
   "execution_count": 34,
   "id": "8983b248",
   "metadata": {},
   "outputs": [],
   "source": [
    "storeResults('Multi-layer Perceptron',acc_test_mlp,f1_score_test_mlp,\n",
    "             recall_score_train_mlp,precision_score_train_mlp)"
   ]
  },
  {
   "cell_type": "markdown",
   "id": "2cef57ca",
   "metadata": {},
   "source": [
    "## 6. Comparision of Models"
   ]
  },
  {
   "cell_type": "code",
   "execution_count": 35,
   "id": "bcddf7ae",
   "metadata": {},
   "outputs": [],
   "source": [
    "result = pd.DataFrame({ 'ML Model' : ML_Model,\n",
    "                        'Accuracy' : accuracy,\n",
    "                        'f1_score' : f1_score,\n",
    "                        'Recall'   : recall,\n",
    "                        'Precision': precision,\n",
    "                      })"
   ]
  },
  {
   "cell_type": "code",
   "execution_count": 36,
   "id": "6851e518",
   "metadata": {},
   "outputs": [
    {
     "data": {
      "text/html": [
       "<div>\n",
       "<style scoped>\n",
       "    .dataframe tbody tr th:only-of-type {\n",
       "        vertical-align: middle;\n",
       "    }\n",
       "\n",
       "    .dataframe tbody tr th {\n",
       "        vertical-align: top;\n",
       "    }\n",
       "\n",
       "    .dataframe thead th {\n",
       "        text-align: right;\n",
       "    }\n",
       "</style>\n",
       "<table border=\"1\" class=\"dataframe\">\n",
       "  <thead>\n",
       "    <tr style=\"text-align: right;\">\n",
       "      <th></th>\n",
       "      <th>ML Model</th>\n",
       "      <th>Accuracy</th>\n",
       "      <th>f1_score</th>\n",
       "      <th>Recall</th>\n",
       "      <th>Precision</th>\n",
       "    </tr>\n",
       "  </thead>\n",
       "  <tbody>\n",
       "    <tr>\n",
       "      <th>0</th>\n",
       "      <td>Logistic Regression</td>\n",
       "      <td>0.915</td>\n",
       "      <td>0.923</td>\n",
       "      <td>0.938</td>\n",
       "      <td>0.918</td>\n",
       "    </tr>\n",
       "    <tr>\n",
       "      <th>1</th>\n",
       "      <td>K-Nearest Neighbors</td>\n",
       "      <td>0.938</td>\n",
       "      <td>0.943</td>\n",
       "      <td>0.982</td>\n",
       "      <td>0.986</td>\n",
       "    </tr>\n",
       "    <tr>\n",
       "      <th>2</th>\n",
       "      <td>Naive Bayes Classifier</td>\n",
       "      <td>0.743</td>\n",
       "      <td>0.805</td>\n",
       "      <td>0.980</td>\n",
       "      <td>0.691</td>\n",
       "    </tr>\n",
       "    <tr>\n",
       "      <th>3</th>\n",
       "      <td>Decision Tree</td>\n",
       "      <td>0.953</td>\n",
       "      <td>0.957</td>\n",
       "      <td>0.987</td>\n",
       "      <td>0.988</td>\n",
       "    </tr>\n",
       "    <tr>\n",
       "      <th>4</th>\n",
       "      <td>Random Forest</td>\n",
       "      <td>0.964</td>\n",
       "      <td>0.967</td>\n",
       "      <td>0.990</td>\n",
       "      <td>0.983</td>\n",
       "    </tr>\n",
       "    <tr>\n",
       "      <th>5</th>\n",
       "      <td>Gradient Boosting Classifier</td>\n",
       "      <td>0.960</td>\n",
       "      <td>0.964</td>\n",
       "      <td>0.988</td>\n",
       "      <td>0.982</td>\n",
       "    </tr>\n",
       "    <tr>\n",
       "      <th>6</th>\n",
       "      <td>Multi-layer Perceptron</td>\n",
       "      <td>0.955</td>\n",
       "      <td>0.959</td>\n",
       "      <td>0.992</td>\n",
       "      <td>0.971</td>\n",
       "    </tr>\n",
       "  </tbody>\n",
       "</table>\n",
       "</div>"
      ],
      "text/plain": [
       "                       ML Model  Accuracy  f1_score  Recall  Precision\n",
       "0           Logistic Regression     0.915     0.923   0.938      0.918\n",
       "1           K-Nearest Neighbors     0.938     0.943   0.982      0.986\n",
       "2        Naive Bayes Classifier     0.743     0.805   0.980      0.691\n",
       "3                 Decision Tree     0.953     0.957   0.987      0.988\n",
       "4                 Random Forest     0.964     0.967   0.990      0.983\n",
       "5  Gradient Boosting Classifier     0.960     0.964   0.988      0.982\n",
       "6        Multi-layer Perceptron     0.955     0.959   0.992      0.971"
      ]
     },
     "execution_count": 36,
     "metadata": {},
     "output_type": "execute_result"
    }
   ],
   "source": [
    "result"
   ]
  },
  {
   "cell_type": "code",
   "execution_count": 37,
   "id": "b5ec314b",
   "metadata": {},
   "outputs": [],
   "source": [
    "sorted_result=result.sort_values(by=['Accuracy', 'f1_score'],ascending=False).reset_index(drop=True)"
   ]
  },
  {
   "cell_type": "code",
   "execution_count": 39,
   "id": "bf364ad6",
   "metadata": {},
   "outputs": [
    {
     "data": {
      "text/html": [
       "<div>\n",
       "<style scoped>\n",
       "    .dataframe tbody tr th:only-of-type {\n",
       "        vertical-align: middle;\n",
       "    }\n",
       "\n",
       "    .dataframe tbody tr th {\n",
       "        vertical-align: top;\n",
       "    }\n",
       "\n",
       "    .dataframe thead th {\n",
       "        text-align: right;\n",
       "    }\n",
       "</style>\n",
       "<table border=\"1\" class=\"dataframe\">\n",
       "  <thead>\n",
       "    <tr style=\"text-align: right;\">\n",
       "      <th></th>\n",
       "      <th>ML Model</th>\n",
       "      <th>Accuracy</th>\n",
       "      <th>f1_score</th>\n",
       "      <th>Recall</th>\n",
       "      <th>Precision</th>\n",
       "    </tr>\n",
       "  </thead>\n",
       "  <tbody>\n",
       "    <tr>\n",
       "      <th>0</th>\n",
       "      <td>Random Forest</td>\n",
       "      <td>0.964</td>\n",
       "      <td>0.967</td>\n",
       "      <td>0.990</td>\n",
       "      <td>0.983</td>\n",
       "    </tr>\n",
       "    <tr>\n",
       "      <th>1</th>\n",
       "      <td>Gradient Boosting Classifier</td>\n",
       "      <td>0.960</td>\n",
       "      <td>0.964</td>\n",
       "      <td>0.988</td>\n",
       "      <td>0.982</td>\n",
       "    </tr>\n",
       "    <tr>\n",
       "      <th>2</th>\n",
       "      <td>Multi-layer Perceptron</td>\n",
       "      <td>0.955</td>\n",
       "      <td>0.959</td>\n",
       "      <td>0.992</td>\n",
       "      <td>0.971</td>\n",
       "    </tr>\n",
       "    <tr>\n",
       "      <th>3</th>\n",
       "      <td>Decision Tree</td>\n",
       "      <td>0.953</td>\n",
       "      <td>0.957</td>\n",
       "      <td>0.987</td>\n",
       "      <td>0.988</td>\n",
       "    </tr>\n",
       "    <tr>\n",
       "      <th>4</th>\n",
       "      <td>K-Nearest Neighbors</td>\n",
       "      <td>0.938</td>\n",
       "      <td>0.943</td>\n",
       "      <td>0.982</td>\n",
       "      <td>0.986</td>\n",
       "    </tr>\n",
       "    <tr>\n",
       "      <th>5</th>\n",
       "      <td>Logistic Regression</td>\n",
       "      <td>0.915</td>\n",
       "      <td>0.923</td>\n",
       "      <td>0.938</td>\n",
       "      <td>0.918</td>\n",
       "    </tr>\n",
       "    <tr>\n",
       "      <th>6</th>\n",
       "      <td>Naive Bayes Classifier</td>\n",
       "      <td>0.743</td>\n",
       "      <td>0.805</td>\n",
       "      <td>0.980</td>\n",
       "      <td>0.691</td>\n",
       "    </tr>\n",
       "  </tbody>\n",
       "</table>\n",
       "</div>"
      ],
      "text/plain": [
       "                       ML Model  Accuracy  f1_score  Recall  Precision\n",
       "0                 Random Forest     0.964     0.967   0.990      0.983\n",
       "1  Gradient Boosting Classifier     0.960     0.964   0.988      0.982\n",
       "2        Multi-layer Perceptron     0.955     0.959   0.992      0.971\n",
       "3                 Decision Tree     0.953     0.957   0.987      0.988\n",
       "4           K-Nearest Neighbors     0.938     0.943   0.982      0.986\n",
       "5           Logistic Regression     0.915     0.923   0.938      0.918\n",
       "6        Naive Bayes Classifier     0.743     0.805   0.980      0.691"
      ]
     },
     "execution_count": 39,
     "metadata": {},
     "output_type": "execute_result"
    }
   ],
   "source": [
    "sorted_result"
   ]
  },
  {
   "cell_type": "code",
   "execution_count": 40,
   "id": "7ea6bef0",
   "metadata": {},
   "outputs": [],
   "source": [
    "import pickle \n",
    "with open('../model/model_2_pickle', 'wb') as f:\n",
    "    pickle.dump(forest, f)"
   ]
  },
  {
   "cell_type": "code",
   "execution_count": null,
   "id": "e42eddca",
   "metadata": {},
   "outputs": [],
   "source": []
  }
 ],
 "metadata": {
  "kernelspec": {
   "display_name": "Python 3 (ipykernel)",
   "language": "python",
   "name": "python3"
  },
  "language_info": {
   "codemirror_mode": {
    "name": "ipython",
    "version": 3
   },
   "file_extension": ".py",
   "mimetype": "text/x-python",
   "name": "python",
   "nbconvert_exporter": "python",
   "pygments_lexer": "ipython3",
   "version": "3.9.7"
  }
 },
 "nbformat": 4,
 "nbformat_minor": 5
}
